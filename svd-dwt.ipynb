{
 "cells": [
  {
   "cell_type": "code",
   "execution_count": 51,
   "id": "218868a4-7c09-4231-bb75-45160ac4d58f",
   "metadata": {},
   "outputs": [
    {
     "name": "stdout",
     "output_type": "stream",
     "text": [
      "水印嵌入成功！\n",
      "水印提取成功！\n"
     ]
    }
   ],
   "source": [
    "import cv2\n",
    "import numpy as np\n",
    "import pywt\n",
    "import matplotlib.pyplot as plt\n",
    "\n",
    "class Watermarking():#水印嵌入提取算法\n",
    "    def watermark(self, a, ori_img, w_img, level=3):\n",
    "        self.a = a\n",
    "        self.img_path = ori_img\n",
    "        self.wimg_path = w_img\n",
    "        self.level = level\n",
    "\n",
    "        img = cv2.imread(self.img_path, 0)  # 读取灰度图\n",
    "            \n",
    "        Coefficients = pywt.wavedec2(img, wavelet='haar', level=self.level)  # 三级离散小波变换\n",
    "        self.shape_LL = Coefficients[0].shape  # Coefficients[0] is LL 低频系数\n",
    "\n",
    "        Uc, Sc, Vc = np.linalg.svd(Coefficients[0])  # 奇异值分解\n",
    "\n",
    "        W = cv2.imread(self.wimg_path, 0)  # 水印\n",
    "        self.wshape = W.shape\n",
    "        if Sc.shape[0] != W.shape[0]:\n",
    "            W = cv2.resize(W, (Sc.shape[0],Sc.shape[0]))\n",
    "\n",
    "        SLL = np.zeros(self.shape_LL)  # 奇异值由列表变成矩阵\n",
    "        row = min(self.shape_LL)\n",
    "        SLL[:row, :row] = np.diag(Sc)\n",
    "        self.Sc = SLL  # LL的奇异值\n",
    "\n",
    "        self.Snew = np.zeros((min(self.shape_LL), min(self.shape_LL)))  # 创建全零矩阵，来接收参数\n",
    "        for y in range(0, min(self.shape_LL)):\n",
    "            for x in range(0, min(self.shape_LL)):\n",
    "                self.Snew[y][x] = self.Sc[y][x] + self.a * (W[y][x])  # 每个像素点依次叠加\n",
    "\n",
    "        Uw, Sw, Vw = np.linalg.svd(self.Snew)  # 奇异值分解\n",
    "\n",
    "        LLnew = np.zeros((min(SLL.shape), min(SLL.shape)))  # 创建全零矩阵，来接收参数\n",
    "        LLnew = Uc.dot(np.diag(Sw)).dot(Vc)\n",
    "        Coefficients[0] = LLnew\n",
    "        img_with_img = pywt.waverec2(Coefficients, 'haar')\n",
    "        return img_with_img\n",
    "\n",
    "    def extract(self, img_with_img):  #提取\n",
    "\n",
    "        Cw = pywt.wavedec2(img_with_img, wavelet='haar', level=self.level)  # 小波变换\n",
    "\n",
    "        Ucw, Scw, Vcw = np.linalg.svd(Cw[0])  # 对低频系数LL进行奇异值分解\n",
    "\n",
    "        Uw, Sw, Vw = np.linalg.svd(self.Snew)  # 对添加水印后的矩阵进行奇异值分解\n",
    "\n",
    "        Snew1 = Uw.dot(np.diag(Scw)).dot(Vw)  # 用低频系数LL的奇异值来还原添加水印后的矩阵\n",
    "\n",
    "        Wdnew = np.zeros((min(self.shape_LL), min(self.shape_LL)))  # 创建全零矩阵，来接收参数\n",
    "\n",
    "        for y in range(0, min(self.shape_LL)):  # 还原水印\n",
    "            for x in range(0, min(self.shape_LL)):\n",
    "                Wdnew[y][x] = (Snew1[y][x] - self.Sc[y][x]) / self.a\n",
    "        #ex_w = cv2.resize(Wdnew,(self.wshape[1],self.wshape[0])) #重新变为原水印大小\n",
    "        return ex_w\n",
    "    \n",
    "if __name__ == '__main__':\n",
    "    w_img = \"image/gray_logo.jpg\"\n",
    "    ori_img = \"image/lena512.jpg\"\n",
    "    generated_img_path = \"encoding0_5.jpg\"\n",
    "    decoding_watermark_path = \"decoding0_5.jpg\"\n",
    "    wm = Watermarking()\n",
    "     \n",
    "    ori_img_mat=cv2.imread(ori_img, cv2.IMREAD_GRAYSCALE)\n",
    "    #w_img_mat=cv2.imread(w_img,cv2.IMREAD_GRAYSCALE)\n",
    "    img_with_img = wm.watermark(0.9,ori_img,w_img)\n",
    "    #savename = 'img_with_img.jpg'\n",
    "    #cv2.imwrite(savename, img_with_img)\n",
    "    print(\"水印嵌入成功！\")\n",
    "\n",
    "    ex_w=wm.extract(img_with_img)\n",
    "    \n",
    "    #savename = 'ex_w.jpg'\n",
    "    #cv2.imwrite(savename, ex_w)\n",
    "    print(\"水印提取成功！\")\n",
    "    "
   ]
  },
  {
   "cell_type": "code",
   "execution_count": 52,
   "id": "b0e9d909-60f8-413f-873e-6be43210e39f",
   "metadata": {},
   "outputs": [
    {
     "name": "stdout",
     "output_type": "stream",
     "text": [
      "(101, 423)\n"
     ]
    }
   ],
   "source": [
    "print(ex_w.shape)"
   ]
  },
  {
   "cell_type": "code",
   "execution_count": 47,
   "id": "2636aafc-e1d3-436f-9790-0223aa810afa",
   "metadata": {},
   "outputs": [
    {
     "name": "stdout",
     "output_type": "stream",
     "text": [
      "28.122146824358243\n"
     ]
    }
   ],
   "source": [
    "def psnr(img1: np.ndarray, img2: np.ndarray) -> float:\n",
    "    \"\"\"\n",
    "    计算两张图片的 PSNR 值\n",
    "\n",
    "    Args:\n",
    "        img1: 图片 1\n",
    "        img2: 图片 2\n",
    "    Returns:\n",
    "        PSNR 值\n",
    "    \"\"\"\n",
    "    mse = np.mean((img1 - img2) ** 2)\n",
    "    if mse == 0:\n",
    "        return float(\"inf\")\n",
    "    return 20 * np.log10(255.0 / np.sqrt(mse))\n",
    "\n",
    "print(psnr(img_with_img,ori_img_mat))\n"
   ]
  },
  {
   "cell_type": "code",
   "execution_count": 54,
   "id": "8c53a3c9-4ff8-45c4-8390-7986a1e7a61f",
   "metadata": {},
   "outputs": [
    {
     "data": {
      "image/png": "[encoded data removed]",
      "text/plain": [
       "<Figure size 432x288 with 1 Axes>"
      ]
     },
     "metadata": {
      "needs_background": "light"
     },
     "output_type": "display_data"
    }
   ],
   "source": [
    "ori_img_mat=cv2.imread(ori_img, cv2.IMREAD_GRAYSCALE)\n",
    "psnrs=[]\n",
    "for i in range(1,10):\n",
    "        img_with_img = wm.watermark(i*0.1,ori_img,w_img)\n",
    "        psnrnum = psnr(img_with_img, ori_img_mat)\n",
    "        psnrs.append(psnrnum)\n",
    "    # 绘制折线图\n",
    "plt.plot(range(1,10), psnrs, marker='o')\n",
    "plt.xlabel('Watermark Embedding Strength')\n",
    "plt.ylabel('PSNR')\n",
    "plt.savefig('chart.jpg')"
   ]
  },
  {
   "cell_type": "code",
   "execution_count": 24,
   "id": "de264c90-1ad5-4126-b46d-911ea1e0a4a7",
   "metadata": {},
   "outputs": [
    {
     "data": {
      "text/plain": [
       "[54.520203778074006,\n",
       " 46.306700500442545,\n",
       " 42.15128381030195,\n",
       " 39.08553135290984,\n",
       " 36.41864812369463,\n",
       " 34.125826968408965,\n",
       " 32.072916255074546,\n",
       " 30.057098791810834,\n",
       " 28.122146824358243]"
      ]
     },
     "execution_count": 24,
     "metadata": {},
     "output_type": "execute_result"
    }
   ],
   "source": [
    "psnrs"
   ]
  },
  {
   "cell_type": "markdown",
   "id": "a91f2549-295a-4bc4-b96d-1d24dac3864e",
   "metadata": {},
   "source": [
    "## 计算含密载体加高斯噪声后的psnr"
   ]
  },
  {
   "cell_type": "code",
   "execution_count": 49,
   "id": "23167673-03be-49c2-9bd5-92c6ef5955f5",
   "metadata": {},
   "outputs": [
    {
     "name": "stdout",
     "output_type": "stream",
     "text": [
      "31.145065726875345\n"
     ]
    }
   ],
   "source": [
    "aw=img_with_img\n",
    "\n",
    "def add_gaussian_noise(img: np.ndarray, mean: float, variance: float) -> np.ndarray:\n",
    "    \"\"\"\n",
    "    给图片添加高斯噪声\n",
    "\n",
    "    Args:\n",
    "        img: 图片矩阵\n",
    "        mean: 均值\n",
    "        variance: 方差\n",
    "    Returns:\n",
    "        添加了高斯噪声的图片矩阵\n",
    "    \"\"\"\n",
    "    sigma = np.sqrt(variance)\n",
    "    noise = np.zeros_like(img)\n",
    "    cv2.randn(noise, mean, sigma)\n",
    "    return img + noise\n",
    "\n",
    "aw_noisy = add_gaussian_noise(aw, mean=0, variance=50)\n",
    "print(psnr(aw, aw_noisy))\n",
    "\n"
   ]
  },
  {
   "cell_type": "code",
   "execution_count": 53,
   "id": "e3e499a0-9fef-4c21-b062-0045861a58e8",
   "metadata": {},
   "outputs": [
    {
     "name": "stdout",
     "output_type": "stream",
     "text": [
      "18.647185335186187\n"
     ]
    },
    {
     "data": {
      "image/png": "[encoded data removed]",
      "text/plain": [
       "<Figure size 432x288 with 1 Axes>"
      ]
     },
     "metadata": {
      "needs_background": "light"
     },
     "output_type": "display_data"
    }
   ],
   "source": [
    "# 水印的psnr\n",
    "w_img_mat=cv2.imread(w_img,0)\n",
    "ex_w=wm.extract(img_with_img)\n",
    "#print(type(w_img_mat))\n",
    "plt.imshow(ex_w,cmap='gray')\n",
    "#plt.show(w_img_mat)\n",
    "print(psnr(ex_w,w_img_mat))"
   ]
  },
  {
   "cell_type": "code",
   "execution_count": null,
   "id": "d5dbfc9f-c2d4-4e5f-8683-4fdcb699195b",
   "metadata": {},
   "outputs": [],
   "source": []
  }
 ],
 "metadata": {
  "kernelspec": {
   "display_name": "Python 3 (ipykernel)",
   "language": "python",
   "name": "python3"
  },
  "language_info": {
   "codemirror_mode": {
    "name": "ipython",
    "version": 3
   },
   "file_extension": ".py",
   "mimetype": "text/x-python",
   "name": "python",
   "nbconvert_exporter": "python",
   "pygments_lexer": "ipython3",
   "version": "3.10.1"
  }
 },
 "nbformat": 4,
 "nbformat_minor": 5
}
