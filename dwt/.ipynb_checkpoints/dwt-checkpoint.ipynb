{
 "cells": [
  {
   "cell_type": "code",
   "execution_count": null,
   "id": "a2b4e2f0-549c-4db6-9e3d-58c15780477c",
   "metadata": {},
   "outputs": [],
   "source": [
    "from numpy import *\n",
    "from PIL import Image\n",
    "import pywt\n",
    "from scipy.misc import *\n",
    "\n",
    "def modify(ori_img,w_img,a):\n",
    "    ori_img = array(ori_img.convert('L'))   # 转成灰度图\n",
    "    w_img = array(w_img.convert('L'))   # 转成灰度图\n",
    "    cA, (cH, cV, cD) = pywt.dwt2(ori_img, 'haar')   #载体图像dwt变换\n",
    "    cA1 = cA+a*w_img   #嵌入后载体图像的新的低频分量\n",
    "    img_with_w= pywt.idwt2((cA1, (cH, cV, cD)), 'haar')\n",
    "\n",
    "    return img_with_w\n",
    "\n",
    "def extract(ori_img,img_with_w,w_img,a):\n",
    "    ori_img = array(ori_img.convert('L'))   # 载体图像原图转成灰度图\n",
    "    w_img = array(w_img.convert('L'))   # 转成灰度图\n",
    "    cA, (cH, cV, cD) = pywt.dwt2(ori_img, 'haar')   #载体图像dwt变换\n",
    "    cA_imgw, (cH, cV, cD) = pywt.dwt2(img_with_w, 'haar')   #含水印载体图像dwt变换\n",
    "    ex_w = (cA_imgw-cA)/a\n",
    "\n",
    "    return ex_w\n",
    "\n",
    "if __name__ == '__main__':\n",
    "    \n",
    "    #原始图片\n",
    "    ori_img = Image.open('im.jpg')\n",
    "    w_img = Image.open('wm.jpg')\n",
    "    \n",
    "#嵌入水印\n",
    "    #水印程度\n",
    "    a = 0.1\n",
    "\n",
    "    img_with_w = modify(ori_img,w_img,a)\n",
    "    img_with_w = Image.fromarray(uint8(img_with_w))\n",
    "    img_with_w.save('im&wm.jpg')\n",
    "    \n",
    "    #提取水印\n",
    "    ex_w = extract(ori_img,img_with_w,w_img,a)    \n",
    "    wm = Image.fromarray(uint8(ex_w),)\n",
    "    wm.save('ex_wm.jpg')\n"
   ]
  }
 ],
 "metadata": {
  "kernelspec": {
   "display_name": "Python 3 (ipykernel)",
   "language": "python",
   "name": "python3"
  },
  "language_info": {
   "codemirror_mode": {
    "name": "ipython",
    "version": 3
   },
   "file_extension": ".py",
   "mimetype": "text/x-python",
   "name": "python",
   "nbconvert_exporter": "python",
   "pygments_lexer": "ipython3",
   "version": "3.10.1"
  }
 },
 "nbformat": 4,
 "nbformat_minor": 5
}
